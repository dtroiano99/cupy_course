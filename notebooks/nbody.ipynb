{
 "cells": [
  {
   "cell_type": "code",
   "execution_count": 1,
   "metadata": {},
   "outputs": [],
   "source": [
    "import cupy as cp\n",
    "\n",
    "def calculate_forces(positions, masses, G):    \n",
    "    positions_diff = positions[:, cp.newaxis, :] - positions\n",
    "    distances = cp.linalg.norm(positions_diff, axis=2)\n",
    "    \n",
    "    inv_distances_cubed = cp.nan_to_num(1.0 / distances ** 3, nan=0)\n",
    "    \n",
    "    forces = cp.sum(inv_distances_cubed[:, :, cp.newaxis] * (positions_diff), axis=1)\n",
    "    forces *= G * masses[:, cp.newaxis]\n",
    "    \n",
    "    return forces\n",
    "\n",
    "def update_positions(positions, velocities, forces, masses, dt):\n",
    "    accelerations = forces / masses[:, cp.newaxis]\n",
    "    new_velocities = velocities + accelerations * dt\n",
    "    new_positions = positions + new_velocities * dt\n",
    "    \n",
    "    return new_positions, new_velocities\n",
    "\n",
    "def simulate_n_body(positions, velocities, masses, G, dt, num_steps):\n",
    "    for _ in range(num_steps):\n",
    "        forces = calculate_forces(positions, masses, G)\n",
    "        positions, velocities = update_positions(positions, velocities, forces, masses, dt)\n",
    "    \n",
    "    return positions, velocities"
   ]
  },
  {
   "cell_type": "code",
   "execution_count": 2,
   "metadata": {},
   "outputs": [],
   "source": [
    "import numpy as np\n",
    "\n",
    "def numpy_calculate_forces(positions, masses, G):    \n",
    "    positions_diff = positions[:, np.newaxis, :] - positions\n",
    "    distances = np.linalg.norm(positions_diff, axis=2)\n",
    "    \n",
    "    inv_distances_cubed = np.nan_to_num(1.0 / distances ** 3, nan=0)\n",
    "    \n",
    "    forces = np.sum(inv_distances_cubed[:, :, np.newaxis] * (positions_diff), axis=1)\n",
    "    forces *= G * masses[:, np.newaxis]\n",
    "    \n",
    "    return forces\n",
    "\n",
    "def numpy_update_positions(positions, velocities, forces, masses, dt):\n",
    "    accelerations = forces / masses[:, np.newaxis]\n",
    "    new_velocities = velocities + accelerations * dt\n",
    "    new_positions = positions + new_velocities * dt\n",
    "    \n",
    "    return new_positions, new_velocities\n",
    "\n",
    "def numpy_simulate_n_body(positions, velocities, masses, G, dt, num_steps):\n",
    "    for _ in range(num_steps):\n",
    "        forces = numpy_calculate_forces(positions, masses, G)\n",
    "        positions, velocities = numpy_update_positions(positions, velocities, forces, masses, dt)\n",
    "    \n",
    "    return positions, velocities"
   ]
  },
  {
   "cell_type": "code",
   "execution_count": 3,
   "metadata": {},
   "outputs": [],
   "source": [
    "# Example usage\n",
    "num_bodies = 1000\n",
    "num_dimensions = 3\n",
    "G = 6.67430e-11  # gravitational constant\n",
    "dt = 0.01  # time step\n",
    "num_steps = 1000\n",
    "\n",
    "positions = np.random.rand(num_bodies, num_dimensions)\n",
    "velocities = np.random.rand(num_bodies, num_dimensions)\n",
    "masses = np.random.rand(num_bodies)\n",
    "\n",
    "# copy of the same data to device\n",
    "pos_gpu = cp.asarray(positions)\n",
    "vel_gpu = cp.asarray(velocities)\n",
    "mass_gpu = cp.asarray(masses)\n",
    "\n",
    "# Generate random initial positions, velocities, and masses\n",
    "def cupy_run(positions, velocities, masses):\n",
    "    # Run the simulation\n",
    "    final_positions, final_velocities = simulate_n_body(positions, velocities, masses, G, dt, num_steps)\n",
    "\n",
    "    return final_positions, final_velocities\n",
    "\n",
    "def numpy_run(positions, velocities, masses):\n",
    "    # Run the simulation\n",
    "    final_positions, final_velocities = numpy_simulate_n_body(positions, velocities, masses, G, dt, num_steps)\n",
    "\n",
    "    return final_positions, final_velocities"
   ]
  },
  {
   "cell_type": "code",
   "execution_count": 4,
   "metadata": {},
   "outputs": [],
   "source": [
    "# %%timeit\n",
    "cp_pos, cp_vel = cupy_run(pos_gpu, vel_gpu, mass_gpu)"
   ]
  },
  {
   "cell_type": "code",
   "execution_count": 5,
   "metadata": {},
   "outputs": [
    {
     "name": "stderr",
     "output_type": "stream",
     "text": [
      "/tmp/ipykernel_289316/4076374977.py:7: RuntimeWarning: divide by zero encountered in divide\n",
      "  inv_distances_cubed = np.nan_to_num(1.0 / distances ** 3, nan=0)\n"
     ]
    }
   ],
   "source": [
    "# %%timeit\n",
    "np_pos, np_vel = numpy_run(positions, velocities, masses)"
   ]
  },
  {
   "cell_type": "code",
   "execution_count": 6,
   "metadata": {},
   "outputs": [],
   "source": [
    "cpu_cp_pos = cp_pos.get()\n",
    "cpu_cp_vel = cp_vel.get()"
   ]
  },
  {
   "cell_type": "code",
   "execution_count": 7,
   "metadata": {},
   "outputs": [
    {
     "data": {
      "text/plain": [
       "True"
      ]
     },
     "execution_count": 7,
     "metadata": {},
     "output_type": "execute_result"
    }
   ],
   "source": [
    "np.allclose(np_pos, cpu_cp_pos)"
   ]
  },
  {
   "attachments": {},
   "cell_type": "markdown",
   "metadata": {},
   "source": [
    "## Agnostic code"
   ]
  },
  {
   "cell_type": "code",
   "execution_count": 10,
   "metadata": {},
   "outputs": [],
   "source": [
    "def agnostic_run(positions, velocities, masses):\n",
    "    # copy data to device\n",
    "    xp = cp.get_array_module(positions)\n",
    "    print(f'using: {xp.__name__}')\n",
    "\n",
    "    def calculate_forces(positions, masses, G):    \n",
    "        positions_diff = positions[:, cp.newaxis, :] - positions\n",
    "        distances = xp.linalg.norm(positions_diff, axis=2)\n",
    "\n",
    "        inv_distances_cubed = xp.nan_to_num(1.0 / distances ** 3, nan=0)\n",
    "\n",
    "        forces = xp.sum(inv_distances_cubed[:, :, xp.newaxis] * (positions_diff), axis=1)\n",
    "        forces *= G * masses[:, xp.newaxis]\n",
    "\n",
    "        return forces\n",
    "\n",
    "    def update_positions(positions, velocities, forces, masses, dt):\n",
    "        accelerations = forces / masses[:, xp.newaxis]\n",
    "        new_velocities = velocities + accelerations * dt\n",
    "        new_positions = positions + new_velocities * dt\n",
    "\n",
    "        return new_positions, new_velocities\n",
    "\n",
    "    def simulate_n_body(positions, velocities, masses, G, dt, num_steps):\n",
    "        for _ in range(num_steps):\n",
    "            forces = calculate_forces(positions, masses, G)\n",
    "            positions, velocities = update_positions(positions, velocities, forces, masses, dt)\n",
    "\n",
    "        return positions, velocities\n",
    "    \n",
    "    pos, vel = simulate_n_body(positions, velocities, masses, G, dt, num_steps)\n",
    "\n",
    "    return pos, vel"
   ]
  },
  {
   "cell_type": "code",
   "execution_count": 11,
   "metadata": {},
   "outputs": [
    {
     "name": "stdout",
     "output_type": "stream",
     "text": [
      "using: cupy\n"
     ]
    }
   ],
   "source": [
    "ag_pos, ag_vel = agnostic_run(pos_gpu, vel_gpu, mass_gpu)"
   ]
  },
  {
   "cell_type": "code",
   "execution_count": 12,
   "metadata": {},
   "outputs": [],
   "source": [
    "cpu_cp_pos = ag_pos.get()\n",
    "cpu_cp_vel = ag_vel.get()"
   ]
  },
  {
   "cell_type": "code",
   "execution_count": 13,
   "metadata": {},
   "outputs": [
    {
     "data": {
      "text/plain": [
       "True"
      ]
     },
     "execution_count": 13,
     "metadata": {},
     "output_type": "execute_result"
    }
   ],
   "source": [
    "np.allclose(np_pos, cpu_cp_pos)"
   ]
  }
 ],
 "metadata": {
  "kernelspec": {
   "display_name": "cupy",
   "language": "python",
   "name": "python3"
  },
  "language_info": {
   "codemirror_mode": {
    "name": "ipython",
    "version": 3
   },
   "file_extension": ".py",
   "mimetype": "text/x-python",
   "name": "python",
   "nbconvert_exporter": "python",
   "pygments_lexer": "ipython3",
   "version": "3.11.3"
  },
  "orig_nbformat": 4
 },
 "nbformat": 4,
 "nbformat_minor": 2
}
