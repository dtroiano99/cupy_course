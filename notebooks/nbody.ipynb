{
 "cells": [
  {
   "cell_type": "code",
   "execution_count": 30,
   "metadata": {},
   "outputs": [],
   "source": [
    "import numpy as np\n",
    "\n",
    "num_bodies = 100\n",
    "num_dimensions = 3\n",
    "G = 6.67430e-11  # gravitational constant\n",
    "dt = 0.01  # time step\n",
    "num_steps = 100\n",
    "\n",
    "def getAcc(positions, mass): \n",
    "    # positions r = [x,y,z] for all particles\n",
    "    x = positions[:, 0:1]\n",
    "    y = positions[:, 1:2]\n",
    "    z = positions[:, 2:3]\n",
    "    \n",
    "    # matrix that stores all pairwise particle separations: r_j - r_i\n",
    "    dx = x.T - x\n",
    "    dy = y.T - y\n",
    "    dz = z.T - z  \n",
    "    \n",
    "    # matrix that stores 1/r^3 for all particle pairwise particle separations \n",
    "    inv_r3 = (dx**2 + dy**2 + dz**2 + 0.01**2)\n",
    "    inv_r3[inv_r3>0] = inv_r3[inv_r3>0]**(-1.5)\n",
    "    ax = G * np.matmul((dx * inv_r3), mass)\n",
    "    ay = G * np.matmul((dy * inv_r3), mass)\n",
    "    az = G * np.matmul((dz * inv_r3), mass)\n",
    "    \n",
    "    # pack together the acceleration components\n",
    "    a = np.hstack((ax, ay, az))\n",
    "    return a\n",
    "\n",
    "def simulate_n_body(v0, positions, mass) -> None:\n",
    "    # Convert to Center-of-Mass frame\n",
    "    vel = v0 - np.mean(mass * v0, 0) / np.mean(mass)\n",
    "    # calculate initial gravitational accelerations\n",
    "    acc = getAcc(positions, mass)\n",
    "    \n",
    "    for _ in range(num_steps):\n",
    "        # (1/2) kick\n",
    "        vel += acc * dt/2.0\n",
    "        # drift\n",
    "        positions += vel * dt\n",
    "        # update accelerations\n",
    "        acc = getAcc(positions, mass)\n",
    "        # (1/2) kick\n",
    "        vel += acc * dt/2.0\n",
    "    \n",
    "    return positions"
   ]
  },
  {
   "cell_type": "code",
   "execution_count": 31,
   "metadata": {},
   "outputs": [],
   "source": [
    "import cupy as cp\n",
    "\n",
    "num_bodies = 100\n",
    "num_dimensions = 3\n",
    "G = 6.67430e-11  # gravitational constant\n",
    "dt = 0.01  # time step\n",
    "num_steps = 100\n",
    "\n",
    "def cp_getAcc(positions, mass): \n",
    "    # positions r = [x,y,z] for all particles\n",
    "    x = positions[:, 0:1]\n",
    "    y = positions[:, 1:2]\n",
    "    z = positions[:, 2:3]\n",
    "    \n",
    "    # matrix that stores all pairwise particle separations: r_j - r_i\n",
    "    dx = x.T - x\n",
    "    dy = y.T - y\n",
    "    dz = z.T - z  \n",
    "    \n",
    "    # matrix that stores 1/r^3 for all particle pairwise particle separations \n",
    "    inv_r3 = (dx**2 + dy**2 + dz**2 + 0.01**2)\n",
    "    inv_r3[inv_r3>0] = inv_r3[inv_r3>0]**(-1.5)\n",
    "    ax = G * cp.matmul((dx * inv_r3), mass)\n",
    "    ay = G * cp.matmul((dy * inv_r3), mass)\n",
    "    az = G * cp.matmul((dz * inv_r3), mass)\n",
    "    \n",
    "    # pack together the acceleration components\n",
    "    a = cp.hstack((ax, ay, az))\n",
    "    return a\n",
    "\n",
    "def cp_simulate_n_body(v0, positions, mass) -> None:\n",
    "    # Convert to Center-of-Mass frame\n",
    "    vel = v0 - cp.mean(mass * v0, 0) / cp.mean(mass)\n",
    "    # calculate initial gravitational accelerations\n",
    "    acc = getAcc(positions, mass)\n",
    "    \n",
    "    for _ in range(num_steps):\n",
    "        # (1/2) kick\n",
    "        vel += acc * dt/2.0\n",
    "        # drift\n",
    "        positions += vel * dt\n",
    "        # update accelerations\n",
    "        acc = getAcc(positions, mass)\n",
    "        # (1/2) kick\n",
    "        vel += acc * dt/2.0\n",
    "    \n",
    "    return positions"
   ]
  },
  {
   "cell_type": "code",
   "execution_count": 32,
   "metadata": {},
   "outputs": [],
   "source": [
    "# Example usage\n",
    "num_bodies = 100\n",
    "num_dimensions = 3\n",
    "G = 6.67430e-11  # gravitational constant\n",
    "dt = 0.01  # time step\n",
    "num_steps = 100\n",
    "\n",
    "positions = np.random.rand(num_bodies, num_dimensions)\n",
    "velocities = np.random.rand(num_bodies, num_dimensions)\n",
    "masses = 20.0 * np.ones((num_bodies, 1)) / num_bodies\n",
    "\n",
    "# copy of the same data to device\n",
    "pos_gpu = cp.asarray(positions)\n",
    "vel_gpu = cp.asarray(velocities)\n",
    "masses_gpu = cp.asarray(masses)\n",
    "\n",
    "# Generate random initial positions, velocities\n",
    "def cupy_run(positions, velocities, masses):\n",
    "    # Run the simulation\n",
    "    final_positions = cp_simulate_n_body(velocities, positions, masses)\n",
    "\n",
    "    return final_positions\n",
    "\n",
    "def numpy_run(positions, velocities, masses):\n",
    "    # Run the simulation\n",
    "    final_positions = simulate_n_body(velocities, positions, masses)\n",
    "\n",
    "    return final_positions"
   ]
  },
  {
   "cell_type": "code",
   "execution_count": 33,
   "metadata": {},
   "outputs": [],
   "source": [
    "# %%timeit\n",
    "cp_pos = cupy_run(pos_gpu, vel_gpu, masses_gpu)"
   ]
  },
  {
   "cell_type": "code",
   "execution_count": 34,
   "metadata": {},
   "outputs": [],
   "source": [
    "# %%timeit\n",
    "np_pos = numpy_run(positions, velocities, masses)"
   ]
  },
  {
   "cell_type": "code",
   "execution_count": 35,
   "metadata": {},
   "outputs": [],
   "source": [
    "cpu_cp_pos = cp_pos.get()"
   ]
  },
  {
   "cell_type": "code",
   "execution_count": 37,
   "metadata": {},
   "outputs": [
    {
     "data": {
      "text/plain": [
       "(array([[ 0.71462362,  0.44611156,  0.07632734],\n",
       "        [ 0.46017152,  0.67906261,  1.24123734],\n",
       "        [ 0.50912575, -0.16336361,  1.12953872],\n",
       "        [ 1.15205822,  1.11445925,  0.65428182],\n",
       "        [ 0.51368936,  0.5666929 ,  0.83880671],\n",
       "        [-0.31488647,  1.06231082,  0.7775603 ],\n",
       "        [ 0.45796346,  0.85237976,  0.2778193 ],\n",
       "        [ 1.15397985,  0.45546538,  0.7553989 ],\n",
       "        [ 0.94280834,  0.22725628,  0.57380995],\n",
       "        [ 0.50348746, -0.08487701,  0.34109575]]),\n",
       " array([[ 0.71462362,  0.44611156,  0.07632734],\n",
       "        [ 0.46017152,  0.67906261,  1.24123734],\n",
       "        [ 0.50912575, -0.16336361,  1.12953872],\n",
       "        [ 1.15205822,  1.11445925,  0.65428182],\n",
       "        [ 0.51368936,  0.5666929 ,  0.83880671],\n",
       "        [-0.31488647,  1.06231082,  0.7775603 ],\n",
       "        [ 0.45796346,  0.85237976,  0.2778193 ],\n",
       "        [ 1.15397985,  0.45546538,  0.7553989 ],\n",
       "        [ 0.94280834,  0.22725628,  0.57380995],\n",
       "        [ 0.50348746, -0.08487701,  0.34109575]]))"
      ]
     },
     "execution_count": 37,
     "metadata": {},
     "output_type": "execute_result"
    }
   ],
   "source": [
    "# np.allclose(np_pos, cpu_cp_pos)\n",
    "np_pos[:10], cp_pos[:10]"
   ]
  },
  {
   "attachments": {},
   "cell_type": "markdown",
   "metadata": {},
   "source": [
    "## Agnostic code"
   ]
  },
  {
   "cell_type": "code",
   "execution_count": 26,
   "metadata": {},
   "outputs": [],
   "source": [
    "def agnostic_run(positions, v0, mass):\n",
    "    # copy data to device\n",
    "    xp = cp.get_array_module(positions)\n",
    "    print(f'using: {xp.__name__}')\n",
    "\n",
    "    def xp_getAcc(positions, mass):\n",
    "        # positions r = [x,y,z] for all particles\n",
    "        x = positions[:, 0:1]\n",
    "        y = positions[:, 1:2]\n",
    "        z = positions[:, 2:3]\n",
    "\n",
    "        # matrix that stores all pairwise particle separations: r_j - r_i\n",
    "        dx = x.T - x\n",
    "        dy = y.T - y\n",
    "        dz = z.T - z  \n",
    "\n",
    "        # matrix that stores 1/r^3 for all particle pairwise particle separations \n",
    "        inv_r3 = (dx**2 + dy**2 + dz**2 + 0.01**2)\n",
    "        inv_r3[inv_r3>0] = inv_r3[inv_r3>0]**(-1.5)\n",
    "        ax = G * xp.matmul((dx * inv_r3), mass)\n",
    "        ay = G * xp.matmul((dy * inv_r3), mass)\n",
    "        az = G * xp.matmul((dz * inv_r3), mass)\n",
    "\n",
    "        # pack together the acceleration components\n",
    "        a = xp.hstack((ax, ay, az))\n",
    "        \n",
    "        return a\n",
    "\n",
    "    # Convert to Center-of-Mass frame\n",
    "    vel = v0 - xp.mean(mass * v0, 0) / xp.mean(mass)\n",
    "    \n",
    "    # calculate initial gravitational accelerations\n",
    "    acc = xp_getAcc(positions, mass)\n",
    "    \n",
    "    for _ in range(num_steps):\n",
    "        # (1/2) kick\n",
    "        vel += acc * dt/2.0\n",
    "        # drift\n",
    "        positions += vel * dt\n",
    "        # update accelerations\n",
    "        acc = xp_getAcc(positions, mass)\n",
    "        # (1/2) kick\n",
    "        vel += acc * dt/2.0\n",
    "\n",
    "    return positions"
   ]
  },
  {
   "cell_type": "code",
   "execution_count": 27,
   "metadata": {},
   "outputs": [
    {
     "name": "stdout",
     "output_type": "stream",
     "text": [
      "using: cupy\n"
     ]
    }
   ],
   "source": [
    "ag_pos = agnostic_run(pos_gpu, vel_gpu, masses_gpu)"
   ]
  },
  {
   "cell_type": "code",
   "execution_count": 28,
   "metadata": {},
   "outputs": [],
   "source": [
    "cpu_cp_pos = ag_pos.get()"
   ]
  },
  {
   "cell_type": "code",
   "execution_count": 29,
   "metadata": {},
   "outputs": [
    {
     "data": {
      "text/plain": [
       "False"
      ]
     },
     "execution_count": 29,
     "metadata": {},
     "output_type": "execute_result"
    }
   ],
   "source": [
    "np.allclose(np_pos, cpu_cp_pos)"
   ]
  },
  {
   "cell_type": "code",
   "execution_count": null,
   "metadata": {},
   "outputs": [],
   "source": []
  }
 ],
 "metadata": {
  "kernelspec": {
   "display_name": "cupy",
   "language": "python",
   "name": "python3"
  },
  "language_info": {
   "codemirror_mode": {
    "name": "ipython",
    "version": 3
   },
   "file_extension": ".py",
   "mimetype": "text/x-python",
   "name": "python",
   "nbconvert_exporter": "python",
   "pygments_lexer": "ipython3",
   "version": "3.11.3"
  },
  "orig_nbformat": 4
 },
 "nbformat": 4,
 "nbformat_minor": 2
}
