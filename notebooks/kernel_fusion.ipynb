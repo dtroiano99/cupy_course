{
 "cells": [
  {
   "cell_type": "code",
   "execution_count": 6,
   "metadata": {},
   "outputs": [
    {
     "name": "stdout",
     "output_type": "stream",
     "text": [
      "elementwise_computation:    CPU:    69.067 us   +/-  0.907 (min:    68.239 / max:    70.953) us     GPU-0:    74.787 us   +/-  1.575 (min:    73.664 / max:    78.624) us\n"
     ]
    }
   ],
   "source": [
    "import cupy as cp\n",
    "from cupyx.profiler import benchmark\n",
    "\n",
    "# Define input arrays\n",
    "a = cp.arange(10)\n",
    "b = cp.arange(10, 20)\n",
    "c = cp.arange(20, 30)\n",
    "\n",
    "# Define an elementwise computation using @cp.fuse() decorator\n",
    "@cp.fuse()\n",
    "def elementwise_computation(x, y, z):\n",
    "    return cp.sin(x) + cp.cos(y) / cp.sqrt(z)\n",
    "\n",
    "# Invoke the elementwise computation\n",
    "print(benchmark(elementwise_computation, (a, b, c), n_repeat=10))\n",
    "\n",
    "# Print the result\n",
    "# print(result)\n"
   ]
  },
  {
   "cell_type": "code",
   "execution_count": 12,
   "metadata": {},
   "outputs": [
    {
     "name": "stdout",
     "output_type": "stream",
     "text": [
      "squared_diff        :    CPU:    17.277 us   +/-  0.810 (min:    16.241 / max:    18.565) us     GPU-0:    22.150 us   +/-  1.233 (min:    20.704 / max:    24.576) us\n"
     ]
    }
   ],
   "source": [
    "@cp.fuse(kernel_name='squared_diff')\n",
    "def squared_diff(x, y):\n",
    "    return (x - y) * (x - y)\n",
    "\n",
    "print(benchmark(squared_diff, (b, c), n_repeat=10))"
   ]
  },
  {
   "cell_type": "code",
   "execution_count": 19,
   "metadata": {},
   "outputs": [],
   "source": [
    "import cupy as cp\n",
    "from cupyx import jit\n",
    "\n",
    "@jit.rawkernel()\n",
    "def elementwise_square(x, y, size):\n",
    "    tid = jit.blockIdx.x * jit.blockDim.x + jit.threadIdx.x\n",
    "    ntid = jit.gridDim.x * jit.blockDim.x\n",
    "    for i in range(tid, size, ntid):\n",
    "        y[i] = x[i] * x[i]\n",
    "\n",
    "size = cp.uint32(2 ** 22)\n",
    "x = cp.arange(size, dtype=cp.float32)\n",
    "y = cp.empty((size,), dtype=cp.float32)\n",
    "\n",
    "elementwise_square((128,), (1024,), (x, y, size))  # RawKernel style\n",
    "assert (y == x * x).all()\n",
    "\n",
    "elementwise_square[128, 1024](x, y, size)  # Numba style\n",
    "assert (y == x * x).all()"
   ]
  }
 ],
 "metadata": {
  "kernelspec": {
   "display_name": "cupy",
   "language": "python",
   "name": "python3"
  },
  "language_info": {
   "codemirror_mode": {
    "name": "ipython",
    "version": 3
   },
   "file_extension": ".py",
   "mimetype": "text/x-python",
   "name": "python",
   "nbconvert_exporter": "python",
   "pygments_lexer": "ipython3",
   "version": "3.11.3"
  },
  "orig_nbformat": 4
 },
 "nbformat": 4,
 "nbformat_minor": 2
}
