{
 "cells": [
  {
   "cell_type": "code",
   "execution_count": 7,
   "metadata": {},
   "outputs": [
    {
     "name": "stdout",
     "output_type": "stream",
     "text": [
      "elementwise_computation:    CPU:    18.496 us   +/-  1.667 (min:    17.403 / max:    23.193) us\n"
     ]
    }
   ],
   "source": [
    "import cupy as cp\n",
    "from cupyx.profiler import benchmark\n",
    "\n",
    "# Define input arrays\n",
    "a = cp.arange(10)\n",
    "b = cp.arange(10, 20)\n",
    "c = cp.arange(20, 30)\n",
    "\n",
    "# Define an elementwise computation using @cp.fuse() decorator\n",
    "@cp.fuse()\n",
    "def elementwise_computation(x, y, z):\n",
    "    return cp.sin(x) + cp.cos(y) / cp.sqrt(z)\n",
    "\n",
    "# Invoke the elementwise computation\n",
    "bench = benchmark(elementwise_computation, (a, b, c), n_repeat=10)\n",
    "\n",
    "# Print the result\n",
    "print(bench.to_str())\n"
   ]
  },
  {
   "cell_type": "code",
   "execution_count": 8,
   "metadata": {},
   "outputs": [
    {
     "name": "stdout",
     "output_type": "stream",
     "text": [
      "squared_diff        :    CPU:    19.973 us   +/-  2.339 (min:    18.275 / max:    24.627) us\n"
     ]
    }
   ],
   "source": [
    "@cp.fuse(kernel_name='squared_diff')\n",
    "def squared_diff(x, y):\n",
    "    return (x - y) * (x - y)\n",
    "\n",
    "bench = benchmark(squared_diff, (b, c), n_repeat=10)\n",
    "\n",
    "print(bench.to_str())"
   ]
  },
  {
   "cell_type": "code",
   "execution_count": 19,
   "metadata": {},
   "outputs": [],
   "source": [
    "import cupy as cp\n",
    "from cupyx import jit\n",
    "\n",
    "@jit.rawkernel()\n",
    "def elementwise_square(x, y, size):\n",
    "    tid = jit.blockIdx.x * jit.blockDim.x + jit.threadIdx.x\n",
    "    ntid = jit.gridDim.x * jit.blockDim.x\n",
    "    for i in range(tid, size, ntid):\n",
    "        y[i] = x[i] * x[i]\n",
    "\n",
    "size = cp.uint32(2 ** 22)\n",
    "x = cp.arange(size, dtype=cp.float32)\n",
    "y = cp.empty((size,), dtype=cp.float32)\n",
    "\n",
    "elementwise_square((128,), (1024,), (x, y, size))  # RawKernel style\n",
    "assert (y == x * x).all()\n",
    "\n",
    "elementwise_square[128, 1024](x, y, size)  # Numba style\n",
    "assert (y == x * x).all()"
   ]
  }
 ],
 "metadata": {
  "kernelspec": {
   "display_name": "cupy",
   "language": "python",
   "name": "python3"
  },
  "language_info": {
   "codemirror_mode": {
    "name": "ipython",
    "version": 3
   },
   "file_extension": ".py",
   "mimetype": "text/x-python",
   "name": "python",
   "nbconvert_exporter": "python",
   "pygments_lexer": "ipython3",
   "version": "3.11.3"
  },
  "orig_nbformat": 4
 },
 "nbformat": 4,
 "nbformat_minor": 2
}
