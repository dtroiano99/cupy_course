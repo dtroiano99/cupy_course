{
 "cells": [
  {
   "cell_type": "code",
   "execution_count": 9,
   "metadata": {},
   "outputs": [
    {
     "name": "stdout",
     "output_type": "stream",
     "text": [
      "gpu time exec: 0m and 0.0002502810675650835s\n",
      "cpu time exec: 0m and 0.011372003005817533s\n",
      "True\n"
     ]
    }
   ],
   "source": [
    "import cupy as cp\n",
    "import numpy as np\n",
    "import cupyx.scipy.ndimage as ndi_cu\n",
    "from scipy import ndimage as ndi_sp\n",
    "import time\n",
    "\n",
    "def measure_time(start, stop):\n",
    "    exe_time = (stop - start)/60\n",
    "    minutes = int(exe_time)\n",
    "    residual_seconds = (exe_time % 1) * 60\n",
    "\n",
    "    return {\"min\":minutes, \"s\":residual_seconds}\n",
    "\n",
    "# Generate random data\n",
    "np.random.seed(42)\n",
    "shape = (5000, 5000)\n",
    "data = np.random.rand(*shape)\n",
    "\n",
    "# Convert data to CuPy array\n",
    "data_gpu = cp.asarray(data)\n",
    "\n",
    "# Compute mean with cupyx.scipy.ndimage\n",
    "start = time.perf_counter()\n",
    "mean_cu = ndi_cu.mean(data_gpu)\n",
    "stop = time.perf_counter()\n",
    "gpu_time = measure_time(start, stop)\n",
    "print(f'gpu time exec: {gpu_time[\"min\"]}m and {gpu_time[\"s\"]}s')\n",
    "\n",
    "# Compute mean with scipy.ndimage\n",
    "start = time.perf_counter()\n",
    "mean_sp = ndi_sp.mean(data)\n",
    "stop = time.perf_counter()\n",
    "cpu_time = measure_time(start, stop)\n",
    "print(f'cpu time exec: {cpu_time[\"min\"]}m and {cpu_time[\"s\"]}s')\n",
    "\n",
    "# Transfer result to NumPy array\n",
    "mean_cu_np = cp.asnumpy(mean_cu)\n",
    "\n",
    "# Compare the results\n",
    "print(np.allclose(mean_sp, mean_cu_np))  # Output: True"
   ]
  },
  {
   "cell_type": "code",
   "execution_count": null,
   "metadata": {},
   "outputs": [],
   "source": []
  }
 ],
 "metadata": {
  "kernelspec": {
   "display_name": "cupy",
   "language": "python",
   "name": "python3"
  },
  "language_info": {
   "codemirror_mode": {
    "name": "ipython",
    "version": 3
   },
   "file_extension": ".py",
   "mimetype": "text/x-python",
   "name": "python",
   "nbconvert_exporter": "python",
   "pygments_lexer": "ipython3",
   "version": "3.11.3"
  },
  "orig_nbformat": 4
 },
 "nbformat": 4,
 "nbformat_minor": 2
}
