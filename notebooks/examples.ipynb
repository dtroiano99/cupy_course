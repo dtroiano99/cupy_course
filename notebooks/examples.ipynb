{
 "cells": [
  {
   "cell_type": "code",
   "execution_count": 14,
   "metadata": {},
   "outputs": [],
   "source": [
    "import numpy as np\n",
    "import cupy as cp\n",
    "npoints = int(1e7)\n",
    "a = np.arange(npoints, dtype=np.float32)"
   ]
  },
  {
   "cell_type": "code",
   "execution_count": 15,
   "metadata": {},
   "outputs": [],
   "source": [
    "x_gpu = cp.asarray(a)"
   ]
  },
  {
   "cell_type": "code",
   "execution_count": 19,
   "metadata": {},
   "outputs": [
    {
     "data": {
      "text/plain": [
       "(array(9999999., dtype=float32), 9999999.0)"
      ]
     },
     "execution_count": 19,
     "metadata": {},
     "output_type": "execute_result"
    }
   ],
   "source": [
    "x_gpu.max(), a.max()"
   ]
  },
  {
   "cell_type": "code",
   "execution_count": 20,
   "metadata": {},
   "outputs": [
    {
     "data": {
      "text/plain": [
       "(array(0., dtype=float32), 0.0)"
      ]
     },
     "execution_count": 20,
     "metadata": {},
     "output_type": "execute_result"
    }
   ],
   "source": [
    "x_gpu.min(), a.min()"
   ]
  },
  {
   "cell_type": "code",
   "execution_count": 23,
   "metadata": {},
   "outputs": [
    {
     "data": {
      "text/plain": [
       "array(5000000., dtype=float32)"
      ]
     },
     "execution_count": 23,
     "metadata": {},
     "output_type": "execute_result"
    }
   ],
   "source": [
    "cp.mean(x_gpu)"
   ]
  },
  {
   "cell_type": "code",
   "execution_count": 24,
   "metadata": {},
   "outputs": [
    {
     "data": {
      "text/plain": [
       "5000000.0"
      ]
     },
     "execution_count": 24,
     "metadata": {},
     "output_type": "execute_result"
    }
   ],
   "source": [
    "a.mean()"
   ]
  },
  {
   "cell_type": "code",
   "execution_count": 22,
   "metadata": {},
   "outputs": [
    {
     "name": "stderr",
     "output_type": "stream",
     "text": [
      "/home/bio/mambaforge/envs/cupy/lib/python3.11/site-packages/cupyx/jit/_interface.py:171: FutureWarning: cupyx.jit.rawkernel is experimental. The interface can change in the future.\n",
      "  cupy._util.experimental('cupyx.jit.rawkernel')\n"
     ]
    }
   ],
   "source": [
    "from cupyx import jit\n",
    "\n",
    "@jit.rawkernel()\n",
    "def elementwise_copy(x, y, size):\n",
    "    tid = jit.blockIdx.x * jit.blockDim.x + jit.threadIdx.x\n",
    "    ntid = jit.gridDim.x * jit.blockDim.x\n",
    "    for i in range(tid, size, ntid):\n",
    "        y[i] = x[i]\n",
    "\n",
    "size = cp.uint32(2 ** 22)\n",
    "x = cp.random.normal(size=(size,), dtype=cp.float32)\n",
    "y = cp.empty((size,), dtype=cp.float32)\n",
    "\n",
    "elementwise_copy((128,), (1024,), (x, y, size))  # RawKernel style\n",
    "assert (x == y).all()\n",
    "\n",
    "elementwise_copy[128, 1024](x, y, size)  #  Numba style\n",
    "assert (x == y).all()"
   ]
  },
  {
   "cell_type": "code",
   "execution_count": 10,
   "metadata": {},
   "outputs": [
    {
     "name": "stdout",
     "output_type": "stream",
     "text": [
      "Time consumed by numpy: 0.19518351601436734\n",
      "\n",
      "Time consumed by cupy: 0.008497097995132208\n",
      "\n",
      "speed-up is by a factor 22.97060903924887\n"
     ]
    }
   ],
   "source": [
    "# Python program to\n",
    "# demonstrate speed comparison\n",
    "# between cupy and numpy\n",
    " \n",
    "# Importing modules\n",
    "import cupy as cp\n",
    "import numpy as np\n",
    "\n",
    "import time\n",
    " \n",
    "# NumPy and CPU Runtime\n",
    "cpus = time.perf_counter()\n",
    "np.ones((1000, 1000, 200))\n",
    "cpue = time.perf_counter()\n",
    "print(f\"Time consumed by numpy: {cpue - cpus}\")\n",
    " \n",
    "# CuPy and GPU Runtime\n",
    "s = time.perf_counter()\n",
    "cp.ones((1000, 1000, 200))\n",
    "e = time.perf_counter()\n",
    "print(f\"\\nTime consumed by cupy: {e - s}\")\n",
    "\n",
    "print(f\"\\nspeed-up is by a factor {(cpue-cpus)/(e-s)}\")"
   ]
  },
  {
   "cell_type": "code",
   "execution_count": 12,
   "metadata": {},
   "outputs": [],
   "source": [
    "from cupyx.profiler import benchmark\n",
    "import cupy as cp\n",
    "import numpy as np\n",
    " \n",
    "# NumPy and CPU Runtime\n",
    "def cpu_init():\n",
    "    return np.ones((1000, 1000, 200))\n",
    " \n",
    "# CuPy and GPU Runtime\n",
    "def gpu_init():\n",
    "    return cp.ones((1000, 1000, 200))\n",
    "\n",
    "cpu_bench = benchmark(cpu_init, n_repeat=20)\n",
    "gpu_bench = benchmark(gpu_init, n_repeat=20)"
   ]
  },
  {
   "cell_type": "code",
   "execution_count": 32,
   "metadata": {},
   "outputs": [
    {
     "data": {
      "text/plain": [
       "cpu_init            :    CPU: 196290.390 us   +/- 1385.358 (min: 194292.732 / max: 199221.589) us     GPU-0: 196364.082 us   +/- 1413.739 (min: 194399.994 / max: 199336.700) us"
      ]
     },
     "execution_count": 32,
     "metadata": {},
     "output_type": "execute_result"
    }
   ],
   "source": [
    "cpu_bench"
   ]
  },
  {
   "cell_type": "code",
   "execution_count": 33,
   "metadata": {},
   "outputs": [
    {
     "data": {
      "text/plain": [
       "gpu_init            :    CPU:    21.039 us   +/-  5.942 (min:    13.415 / max:    40.005) us     GPU-0:  8385.842 us   +/- 597.780 (min:  7681.024 / max:  9244.768) us"
      ]
     },
     "execution_count": 33,
     "metadata": {},
     "output_type": "execute_result"
    }
   ],
   "source": [
    "gpu_bench"
   ]
  },
  {
   "cell_type": "code",
   "execution_count": 4,
   "metadata": {},
   "outputs": [
    {
     "name": "stdout",
     "output_type": "stream",
     "text": [
      "Using: numpy\n",
      "Using: numpy\n",
      "Using: numpy\n",
      "Using: numpy\n",
      "Using: numpy\n",
      "Using: numpy\n",
      "Using: numpy\n",
      "Using: numpy\n",
      "Using: numpy\n",
      "Using: numpy\n",
      "Using: numpy\n",
      "Using: numpy\n",
      "Using: numpy\n",
      "Using: numpy\n",
      "Using: numpy\n",
      "Using: numpy\n",
      "Using: numpy\n",
      "Using: numpy\n",
      "Using: numpy\n",
      "Using: numpy\n",
      "Using: cupy\n",
      "Using: cupy\n",
      "Using: cupy\n",
      "Using: cupy\n",
      "Using: cupy\n",
      "Using: cupy\n",
      "Using: cupy\n",
      "Using: cupy\n",
      "Using: cupy\n",
      "Using: cupy\n",
      "Using: cupy\n",
      "Using: cupy\n",
      "Using: cupy\n",
      "Using: cupy\n",
      "Using: cupy\n",
      "Using: cupy\n",
      "Using: cupy\n",
      "Using: cupy\n",
      "Using: cupy\n",
      "Using: cupy\n"
     ]
    }
   ],
   "source": [
    "import cupy as cp\n",
    "import numpy as np\n",
    "from cupyx.profiler import benchmark\n",
    "\n",
    "# Stable implementation of log(1 + exp(x))\n",
    "def softplus(x):\n",
    "    xp = cp.get_array_module(x)\n",
    "    print(\"Using:\", xp.__name__)\n",
    "    return xp.maximum(0, x) + xp.log1p(xp.exp(-abs(x)))\n",
    "\n",
    "x = np.random.random(int(1e5))\n",
    "x_gpu = cp.asarray(x)\n",
    "\n",
    "cpu_bench = benchmark(softplus, (x,), n_repeat=10)\n",
    "gpu_bench = benchmark(softplus, (x_gpu,), n_repeat=10)"
   ]
  },
  {
   "cell_type": "code",
   "execution_count": 6,
   "metadata": {},
   "outputs": [
    {
     "data": {
      "text/plain": [
       "'softplus            :    CPU:  2336.364 us   +/- 83.127 (min:  2089.450 / max:  2374.256) us'"
      ]
     },
     "execution_count": 6,
     "metadata": {},
     "output_type": "execute_result"
    }
   ],
   "source": [
    "cpu_bench.to_str()"
   ]
  },
  {
   "cell_type": "code",
   "execution_count": 7,
   "metadata": {},
   "outputs": [
    {
     "data": {
      "text/plain": [
       "'softplus            :    CPU:    56.202 us   +/-  1.779 (min:    54.793 / max:    60.534) us'"
      ]
     },
     "execution_count": 7,
     "metadata": {},
     "output_type": "execute_result"
    }
   ],
   "source": [
    "gpu_bench.to_str()"
   ]
  },
  {
   "cell_type": "code",
   "execution_count": null,
   "metadata": {},
   "outputs": [],
   "source": []
  }
 ],
 "metadata": {
  "kernelspec": {
   "display_name": "numba",
   "language": "python",
   "name": "python3"
  },
  "language_info": {
   "codemirror_mode": {
    "name": "ipython",
    "version": 3
   },
   "file_extension": ".py",
   "mimetype": "text/x-python",
   "name": "python",
   "nbconvert_exporter": "python",
   "pygments_lexer": "ipython3",
   "version": "3.11.3"
  },
  "orig_nbformat": 4
 },
 "nbformat": 4,
 "nbformat_minor": 2
}
